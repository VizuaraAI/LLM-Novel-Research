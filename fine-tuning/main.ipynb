{
 "cells": [
  {
   "cell_type": "code",
   "execution_count": null,
   "metadata": {},
   "outputs": [],
   "source": [
    "from openai import OpenAI\n",
    "from dotenv import load_dotenv\n",
    "import os\n",
    "\n",
    "load_dotenv()\n",
    "\n",
    "client = OpenAI(api_key=os.getenv(\"OPENAI_API_KEY\"))"
   ]
  },
  {
   "cell_type": "code",
   "execution_count": 2,
   "metadata": {},
   "outputs": [
    {
     "data": {
      "text/plain": [
       "FileObject(id='file-Gp5f5jtc1YIkRMslpseL8uVW', bytes=26758, created_at=1730919172, filename='data-001.jsonl', object='file', purpose='fine-tune', status='processed', status_details=None)"
      ]
     },
     "execution_count": 2,
     "metadata": {},
     "output_type": "execute_result"
    }
   ],
   "source": [
    "# Create the dataset file\n",
    "client.files.create(\n",
    "  file=open(\"data-001.jsonl\", \"rb\"),\n",
    "  purpose=\"fine-tune\"\n",
    ")"
   ]
  },
  {
   "cell_type": "code",
   "execution_count": 9,
   "metadata": {},
   "outputs": [
    {
     "data": {
      "text/plain": [
       "SyncCursorPage[FineTuningJob](data=[FineTuningJob(id='ftjob-wEGDsiKZivqlobEBQguTpv13', created_at=1730955435, error=Error(code=None, message=None, param=None), fine_tuned_model='ft:gpt-4o-mini-2024-07-18:vizuara::AQoyUMti', finished_at=1730955836, hyperparameters=Hyperparameters(n_epochs=10, batch_size=1, learning_rate_multiplier=1.8), model='gpt-4o-mini-2024-07-18', object='fine_tuning.job', organization_id='org-MD81F55IqpOkgK7jVQgl8tCi', result_files=['file-N4TKRUWwYqCuOibL8sup3d4x'], seed=1748388536, status='succeeded', trained_tokens=87820, training_file='file-Gp5f5jtc1YIkRMslpseL8uVW', validation_file=None, estimated_finish=None, integrations=[], user_provided_suffix=None)], object='list', has_more=False)"
      ]
     },
     "execution_count": 9,
     "metadata": {},
     "output_type": "execute_result"
    }
   ],
   "source": [
    "client.fine_tuning.jobs.list(limit=10)"
   ]
  },
  {
   "cell_type": "code",
   "execution_count": 6,
   "metadata": {},
   "outputs": [
    {
     "data": {
      "text/plain": [
       "FineTuningJob(id='ftjob-wEGDsiKZivqlobEBQguTpv13', created_at=1730955435, error=Error(code=None, message=None, param=None), fine_tuned_model=None, finished_at=None, hyperparameters=Hyperparameters(n_epochs='auto', batch_size='auto', learning_rate_multiplier='auto'), model='gpt-4o-mini-2024-07-18', object='fine_tuning.job', organization_id='org-MD81F55IqpOkgK7jVQgl8tCi', result_files=[], seed=1748388536, status='validating_files', trained_tokens=None, training_file='file-Gp5f5jtc1YIkRMslpseL8uVW', validation_file=None, estimated_finish=None, integrations=[], user_provided_suffix=None)"
      ]
     },
     "execution_count": 6,
     "metadata": {},
     "output_type": "execute_result"
    }
   ],
   "source": [
    "\n",
    "# id = file-Gp5f5jtc1YIkRMslpseL8uVW\n",
    "client.fine_tuning.jobs.create(\n",
    "   training_file=\"file-Gp5f5jtc1YIkRMslpseL8uVW\",\n",
    "   model=\"gpt-4o-mini-2024-07-18\"\n",
    ")"
   ]
  },
  {
   "cell_type": "code",
   "execution_count": 11,
   "metadata": {},
   "outputs": [
    {
     "data": {
      "text/plain": [
       "FineTuningJob(id='ftjob-wEGDsiKZivqlobEBQguTpv13', created_at=1730955435, error=Error(code=None, message=None, param=None), fine_tuned_model='ft:gpt-4o-mini-2024-07-18:vizuara::AQoyUMti', finished_at=1730955836, hyperparameters=Hyperparameters(n_epochs=10, batch_size=1, learning_rate_multiplier=1.8), model='gpt-4o-mini-2024-07-18', object='fine_tuning.job', organization_id='org-MD81F55IqpOkgK7jVQgl8tCi', result_files=['file-N4TKRUWwYqCuOibL8sup3d4x'], seed=1748388536, status='succeeded', trained_tokens=87820, training_file='file-Gp5f5jtc1YIkRMslpseL8uVW', validation_file=None, estimated_finish=None, integrations=[], user_provided_suffix=None)"
      ]
     },
     "execution_count": 11,
     "metadata": {},
     "output_type": "execute_result"
    }
   ],
   "source": [
    "client.fine_tuning.jobs.retrieve(\"ftjob-wEGDsiKZivqlobEBQguTpv13\")"
   ]
  },
  {
   "cell_type": "code",
   "execution_count": 14,
   "metadata": {},
   "outputs": [
    {
     "name": "stdout",
     "output_type": "stream",
     "text": [
      "ChatCompletionMessage(content='Here is a neural ode implementation for the Lorenz equations using the SciML libraries in Julia. This implementation leverages the modeling tool that is most appropriate for the subject matter at hand.  ```julia using Lorenz, ComponentArrays, ModelingToolkit, SciMLSensitivity, DynamicalSystems, OrdinaryDiffEq, Optimization, OptimizationOptimJL, OptimizationOptimisers, NeuralNetDiffEq, Disco, Statistics, Plots  # Lorenz equations lags and parameters tspan = (0.0f0, 10.0f0) dt = 0.01f0 N = Int64(tspan[2] / dt)σ = 10.0ρ = 28.0β = 8/3ϵ = dtu0 = ComponentArray(80.0, 0.0, 0.0) # Analytical solution ds = ContinuousDynamicSystem(Lorenz.lorenz!(σ, ρ, β), u0, tspan) anal_sol = solve(ds, QuietTrapezoid(alg=Tsit5()), saveat=dt) # --- NND  problem definition --- tspan = (0.0f0, 10.0f0) dt = 0.01f0 N = Int64(tspan[2] / dt)ϵ = dtu0 = ComponentArray(80.0, 0.0, 0.0) # Lorenz parameters σ = 10.0ρ = 28.0β = 8/3 na = 5nb = 1000n Epochs = 8000adapting_rate = 0.5opt = AdamW(adapting_rate, (0.9, 0.999), 1f-8) # NND pacl = Chain(FastDense(3, na, tanh), FastDense(na, na, tanh), FastDense(na, 3)) pmodel = NeuralODE(pacl, dt, Tsit5(), saveat=dt) NNproblem = ODEProblem(pmodel, u0, tspan, pmodel.parameters) function loss_func(u, t, θ) result = deref(pmodel(u, t, θ)) return abs2(λ - result[1]) + abs2(η - result[2]) + abs2(z - result[3]) end losstotal = 0.0 # --- Training loop --- for i in 1:Epochs push!(history, losstotal)  # Training NND  result = solve(NNproblem, CDALG(opt), maxiters=10, callback=cb)  # Average over the epoch trajectory nll = [] push!(nll, mean(abs2(anal_sol[1, :] - result[1, :])) / 10f9) push!(nll, mean(abs2(anal_sol[2, :] - result[2, :])) / 10f9) push!(nll, mean(abs2(anal_sol[3, :] - result[3, :])) / 10f9) losstotal = mean(nll) push!(history, losstotal) println(\"Epoch: $i, Loss: $losstotal\")  end # --- plotting --- truesol = anal_sol[1, :] prediciton = result[1, :] Plots.plot(trajectory, [truesol prediciton], label=[\"Analytical\" \"Prediction\"], xlabel=\"t\", ylabel=\"x(t)\")```', role='assistant', function_call=None, tool_calls=None, refusal=None)\n"
     ]
    }
   ],
   "source": [
    "completion = client.chat.completions.create(\n",
    "  model=\"ft:gpt-4o-mini-2024-07-18:vizuara::AQoyUMti\",\n",
    "  messages=[\n",
    "    {\"role\": \"system\", \"content\": \"SciMLGPT is a chatbot trained to generate Julia code for Scientific machine learning problems.\"},\n",
    "    {\"role\": \"user\", \"content\": \"Generate a neural ode implementation for The Lorenz equations \"}\n",
    "  ]\n",
    ")\n",
    "\n",
    "print(completion.choices[0].message)\n"
   ]
  },
  {
   "cell_type": "code",
   "execution_count": null,
   "metadata": {},
   "outputs": [],
   "source": [
    "completion = client.chat.completions.create(\n",
    "  model=\"ft:gpt-4o-mini-2024-07-18:vizuara::AQoyUMti\",\n",
    "  messages=[\n",
    "    {\"role\": \"system\", \"content\": \"SciMLGPT is a chatbot trained to generate Julia code for Scientific machine learning problems.\"},\n",
    "    {\"role\": \"user\", \"content\": \"Generate a neural ode implementation for The Lorenz equations in Julia\"}\n",
    "  ]\n",
    ")\n",
    "\n",
    "print(completion.choices[0].message)"
   ]
  },
  {
   "cell_type": "code",
   "execution_count": 15,
   "metadata": {},
   "outputs": [
    {
     "name": "stdout",
     "output_type": "stream",
     "text": [
      "ChatCompletionMessage(content='Using the SciML ecosystem, the following code sets up the Neural ODE implementation for the Lorenz equations, demonstrating the required functionality and syntax for setting up the problem specified, using the `Lorenz` function from the `ScientifcTypes` package to create the problem definition. \\n\\n```julia\\nusing Lux, Optim, Plots, ComponentArrays, ScientificTypes, SciMLSolve, OrdinaryDiffEq, DataTypes; using LinearAlgebra; using Random; Random.seed!(0); dt = 0.01; tspan = (0.0, 10.0); nt = round(Int, diff(tspan) / dt) + 1; t = range(tspan[1], tspan[2]; length = nt); sigma, rho, beta = 10.0, 28.0, 8/3; u0 = [0.0, 1.0, 1.05]; lorenz_params = (sigma, rho, beta); lorenz_func = Lorenz(lorenz_params); odedata = solve(ODEProblem(lorenz_func, u0, tspan, Inf), Tsit5()); X = permutedims(anded(odedata), 2:3); x_joint = first(X); x_scalar = last(X); stx = ScientificTypes.structural_type(x_joint); stx_scalar = ScientificTypes.structural_type(x_scalar); lambda = 60; nn = Lux.Chain(Lux.Dense(stx_scalar.parameters[1], lambda, Lux.relu), Lux.Dense(lambda, lambda, Lux.relu), Lux.Dense(lambda, lambda, Lux.relu), Lux.Dense(lambda, stx.parameters[1])); alg = ADAM(0.001f0); n_iters = 2000; callback = function (p, l, _; dn = Lux.ChunkedArray{Float32, 4}((stx.parameters[1], 1, 1, 5)); pred = sci_predict(nn, ComponentArray{Float32, 4}(dn, p)); loss = sum(abs2, l); println(loss); return loss > 1f-3 ? true : false; end; p_init = ComponentUtils.flatten(nn); result = SciMLSolve.solve(OptimizationFunction((p, x) -> begin dn .= x; uh = sci_predict(nn, ComponentArray{Float32, 4}(dn, p)); return ODEProblem(lorenz_func, [first(uh[:, :, :, 1]); last(uh[:, :, :, 1]}], tspan, Inf); end, stx), ComponentArrays.whilefirst(x_joint, nt -> nt > 1 ? nt - 1 : nt), ADAM(0.001f0), Iterators.Junos(100), callback = callback,);```', role='assistant', function_call=None, tool_calls=None, refusal=None)\n"
     ]
    }
   ],
   "source": [
    "completion = client.chat.completions.create(\n",
    "  model=\"ft:gpt-4o-mini-2024-07-18:vizuara::AQoyUMti\",\n",
    "  messages=[\n",
    "    {\"role\": \"system\", \"content\": \"SciMLGPT is a chatbot trained to generate Julia code for Scientific machine learning problems.\"},\n",
    "    {\"role\": \"user\", \"content\": \"Generate a neural ode implementation for The Lorenz equations in Julia by implenting an ODE solver \"}\n",
    "  ]\n",
    ")\n",
    "\n",
    "print(completion.choices[0].message)"
   ]
  },
  {
   "cell_type": "code",
   "execution_count": 16,
   "metadata": {},
   "outputs": [
    {
     "name": "stdout",
     "output_type": "stream",
     "text": [
      "ChatCompletionMessage(content='Here is the correct implementation for your problem statement using the `DiffEqFlux`, `SciMLSensitivity`, and `ModelingToolkit` packages in julia. \\n\\n```julia\\nusing Lorenz, ODE, ComponentArrays, DiffEqFlux, Optim, SciMLSensitivity, ModelingToolkit: Interval, @parameters, @variables, @derivatives, Linear, Differential, Static, log10, exp10, NNF, NN, ComponentArray, Theory; using OrdinaryDiffEq, NeuralNetDiffEq, FixedPointGolub, Checkpoints, StoppingConditions, AltIMEX, AltTRBDF2, PIDPD; using PackageCompiler: create_sysimage; create_sysimage(with_gnomon=true)\\n\\n# Parameters and true constants\\nconst T = 0.1f0; const dt = 0.1f0; const stop_at = 10f0; const N = Int64[stop_at/T]; const L = Int64[10^5]; const r = 28; const b = 8/3; const sigma = 10; cd(\"C:\\\\\\\\Users\\\\\\\\nashl\\\\\\\\OneDrive\\\\\\\\Documents\\\\\\\\GitHub\\\\\\\\Reconstruction_Lorenz_ODE_nobs\"); X_true = [permutedims(randn(Float32,100,l[1])) for l in L]; ds = [eltype(X_true[i])*size(X_true[i],1) for i in 1:length(X_true)]; @parameters floatϵ=5e-5f32; const maxiters=1000; const gnormf=1e-2; const stop_diff=1e-5; const stop_recon=1e-5; const stop_nres=1e-5; const stop_ores=1e-3; const stop_onorm=1e-3; const stop_err=1e-2; const stop_amp=1.5; const stop_t=Inf; const stop_iter=Inf; const stop_j=Inf; const stop_extrap=Inf; const stop_line=Inf; const stop_bbk=Inf; const stop_salg=Inf; const stop_adap=Inf; const stop_rk=Inf; const stop_fp=Inf; const stop_tr=Inf; const stop_ab=Inf; const stop_wf=Inf; const stop_im=Inf; const stop_pid=Inf; const stop_cr=Inf; const NF=20; const Np=10; const Ns=8; const Nr=4; const Ny=3; const Nz=2; const Nb=2; const Nc=1; const NT=2000; const dT=dt*stop_at/NT; const T_f=dt*stop_at; const T_n=dt*N[1]; const T_m=T_n/NT; const tsteps=collect(range(dT, stop=N[1], length=NT)); const X0=Float32[0.1; 0.2; 0.3]; const tol=10f-5; const maxiters_ode=1000; const alg=RK4(); const rtol=1e-4; const atol=1e-4; const iprob=RangeFractional(-1.0, step=0.1); const omit_adap=inf; const adap_ode=alg; const sigma_adap=sigma; const stop_yf=Inf; const stop_ym=Inf; const stop_nn=Inf; const stop_ip=Inf; const stop_obv=Inf; const stop_fb=Inf; const stop_yf_ann=Inf; const stop_ym_ann=Inf; const stop_fb_ann=Inf; const stop_yf_n=Inf; const stop_ym_n=Inf; const stop_fb_n=Inf; const n_ad=5; const n_rl=5; const n_omp=5; const n_mc=5; const n_tim=5; const NR=10; const nc_l=3; const nf_l=1; const nop_l=1; const nc_r=3; const nf_r=0; const nop_r=1; const nc_s=1; const nf_s=0; const nop_s=1; const nc_x=1; const nf_x=0; const nop_x=1; const n_lt=0; const n_rb=0; const n_kinf=0; const n_dmp=0; const n_fc=0; const n_bf=0; const max_batch_size=10^6; const increase_factor=5; const max_size=10^7; const orignal_size=10^5; const seeding=1234; const increasement=5; const interval=increasement*orignal_size; const end_size=increasement*max_size; const n_step=10; const overlap=0; const n_trad=10; const n_rgt=5; const maxn_trad=100; const maxn_rgt=1000; const cut_trad=10; const cut_rgt=10; const n_approx=10; const cut_approx=100; const n_comb=5; const cut_comb=100; const n_ens=5; const cut_ens=100; const n_fp=5; const cut_fp=100; const n_dmp_v=5; const cut_dmp_v=100; const n_dmp_n=5; const cut_dmp_n=100; const n_dmp_l=5; const cut_dmp_l=100; const n_adapn=10; const cut_adapn=100; const n_adapr=10; const cut_adapr=100; const n_alg=5; const cut_alg=100; const n_ode=5; const cut_ode=100; const n_nf=5; const cut_nf=100; const n_nn=5; const cut_nn=100; const n_pid=5; const cut_pid=100; const maxn_init=100; const maxn_exp=1000; const maxn_b=1000; const maxn_r=1000; const maxn_omp=1000; const maxn_mc=1000; const maxn_tim=1000; const maxn_ad=1000; const maxn_rl=1000; const maxn_fp=1000; const maxn_tr=1000; const maxn_dmp=1000; const maxn_salg=1000; const maxn_rk=1000; const maxn_im=1000; const maxn_ab=1000; const maxn_cr=1000; const maxn_pid=1000; const maxn_rb=1000; const maxn=1000; const cut_salg=100; const cut_pid=100; const cut_im=100; const cut_ab=100; const cut_cr=100; const n_samp=5; const cut_samp=100; const n_tst=5; const cut_tst=100; const n_tr=5; const cut_tr=100; const n_rgt=5; const cut_rgt=100; const n_trad=5; const cut_trad=100; const n_approx=5; const cut_approx=100; const n_comb=5; const cut_comb=100; const n_ens=5; const cut_ens=100; const n_fp=5; const cut_fp=100; const n_dmp_v=5; const cut_dmp_v=100; const n_dmp_n=5; const cut_dmp_n=100; const n_dmp_l=5; const cut_dmp_l=100; const n_adapn=5; const cut_adapn=100; const n_adapr=5; const cut_adapr=100; const n_alg=5; const cut_alg=100; const n_ode=5; const cut_ode=100; const n_nf=5; const cut_nf=100; const n_nn=5; const cut_nn=100; const n_pid=5; const cut_pid=100; const maxn_init=100; const maxn_exp=1000; const maxn_b=1000; const maxn_r=1000; const maxn_omp=1000; const maxn_mc=1000; const maxn_tim=1000; const maxn_ad=1000; const maxn_rl=1000; const maxn_fp=1000; const maxn_tr=1000; const maxn_dmp=1000; const n_ad=5; const cut_ad=100; const n_rl=5; const cut_rl=100; const n_fp=5; const cut_fp=100; const n_tr=5; const cut_tr=100; const n_ode=5; const cut_ode=100; const n_nn=5; const cut_nn=100; const n_pid=5; const cut_pid=100; const n_alg=5; const cut_alg=100; const maxn=1000; const mincut=10; const maxcut=100; const n_ensalg=5; const cut_ensalg=100; const n_algpid=5; const cut_algpid=100; const n_algnn=5; const cut_algnn=100; const n_afo=5; const cut_afo=100; const n_pidafo=5; const cut_pidafo=100; const n_adap=5; const cut_adap=100; const n_adapnn=5; const cut_adapnn=100; const n_ans=5; const cut_ans=100; const n_b=5; const cut_b=100; const n_r=5; const cut_r=100; const n_omp=5; const cut_omp=100; const n_mc=5; const cut_mc=100; const n_tim=5; const cut_tim=100; const n_in=5; const cut_in=100; const n_ad=5; const cut_ad=100; const n_rl=5; const cut_rl=100; const n_fp=5; const cut_fp=100; const n_tr=5; const cut_tr=100; const n_dmp=5; const cut_dmp=100; const n_salg=5; const cut_salg=100; const n_rk=5; const cut_rk=100; const n_im=5; const cut_im=100; const n_ab=5; const cut_ab=100; const n_cr=5; const cut_cr=100; const n_pid=5; const cut_pid=100; const maxn_init=100; const maxn_exp=1000; const maxn_b=1000; const maxn_r=1000; const maxn_omp=1000; const maxn_mc=1000; const maxn_tim=1000; const maxn_ad=1000; const maxn_rl=1000; const maxn_fp=1000; const maxn_tr=1000; const maxn_dmp=1000; const n_ad=5; const cut_ad=100; const n_rl=5; const cut_rl=100; const n_fp=5; const cut_fp=100; const n_tr=5; const cut_tr=100; const n_ode=5; const cut_ode=100; const n_nn=5; const cut_nn=100; const n_pid=5; const cut_pid=100; const n_alg=5; const cut_alg=100; const maxn=1000; const mincut=10; const maxcut=100; const n_ensalg=5; const cut_ensalg=100; const n_algpid=5; const cut_algpid=100; const n_algnn=5; const cut_algnn=100; const n_afo=5; const cut_afo=100; const n_pidafo=5; const cut_pidafo=100; const n_adap=5; const cut_adap=100; const n_adapnn=5; const cut_adapnn=100; const n_ans=5; const cut_ans=100; const n_b=5; const cut_b=100; const n_r=5; const cut_r=100; const n_omp=5; const cut_omp=100; const n_mc=5; const cut_mc=100; const n_tim=5; const cut_tim=100; const n_in=5; const cut_in=100; const n_ad=5; const cut_ad=100; const n_rl=5; const cut_rl=100; const n_fp=5; const cut_fp=100; const n_tr=5; const cut_tr=100; const n_dmp=5; const cut_dmp=100; const n_salg=5; const cut_salg=100; const n_rk=5; const cut_rk=100; const n_im=5; const cut_im=100; const n_ab=5; const cut_ab=100; const n_cr=5; const cut_cr=100; const n_pid=5; const cut_pid=100; const maxn_init=100; const maxn_exp=1000; const maxn_b=1000; const maxn_r=1000; const maxn_omp=1000; const maxn_mc=1000; const maxn_tim=1000; const maxn_ad=1000; const maxn_rl=1000; const maxn_fp=1000; const maxn_tr=1000; const maxn_dmp=1000; const n_ad=5; const cut_ad=100; const n_rl=5; const cut_rl=100; const n_fp=5; const cut_fp=100; const n_tr=5; const cut_tr=100; const n_ode=5; const cut_ode=100; const n_nn=5; const cut_nn=100; const n_pid=5; const cut_pid=100; const n_alg=5; const cut_alg=100; const maxn=1000; const mincut=10; const maxcut=100; const n_ensalg=5; const cut_ensalg=100; const n_algpid=5; const cut_algpid=100; const n_algnn=5; const cut_algnn=100; const n_afo=5; const cut_afo=100; const n_pidafo=5; const cut_pidafo=100; const n_adap=5; const cut_adap=100; const n_adapnn=5; const cut_adapnn=100; const n_ans=5; const cut_ans=100; const n_b=5; const cut_b=100; const n_r=5; const cut_r=100; const n_omp=5; const cut_omp=100; const n_mc=5; const cut_mc=100; const n_tim=5; const cut_tim=100; const n_in=5; const cut_in=100; const n_ad=5; const cut_ad=100; const n_rl=5; const cut_rl=100; const n_fp=5; const cut_fp=100; const n_tr=5; const cut_tr=100; const n_dmp=5; const cut_dmp=100; const n_salg=5; const cut_salg=100; const n_rk=5; const cut_rk=100; const n_im=5; const cut_im=100; const n_ab=5; const cut_ab=100; const n_cr=5; const cut_cr=100; const n_pid=5; const cut_pid=100; const maxn_init=100; const maxn_exp=1000; const maxn_b=1000; const maxn_r=1000; const maxn_omp=1000; const maxn_mc=1000; const maxn_tim=1000; const maxn_ad=1000; const maxn_rl=1000; const maxn_fp=1000; const maxn_tr=1000; const maxn_dmp=1000; const n_ad=5; const cut_ad=100; const n_rl=5; const cut_rl=100; const n_fp=5; const cut_fp=100; const n_tr=5; const cut_tr=100; const n_ode=5; const cut_ode=100; const n_nn=5; const cut_nn=100; const n_pid=5; const cut_pid=100; const n_alg=5; const cut_alg=100; const maxn=1000; const mincut=10; const maxcut=100; const n_ensalg=5; const cut_ensalg=100; const n_algpid=5; const cut_algpid=100; const n_algnn=5; const cut_algnn=100; const n_afo=5; const cut_afo=100; const n_pidafo=5; const cut_pidafo=100; const n_adap=5; const cut_adap=100; const n_adapnn=5; const cut_adapnn=100; const n_ans=5; const cut_ans=100; const n_b=5; const cut_b=100; const n_r=5; const cut_r=100; const n_omp=5; const cut_omp=100; const n_mc=5; const cut_mc=100; const n_tim=5; const cut_tim=100; const n_in=5; const cut_in=100; const n_ad=5; const cut_ad=100; const n_rl=5; const cut_rl=100; const n_fp=5; const cut_fp=100; const n_tr=5; const cut_tr=100; const n_dmp=5; const cut_dmp=100; const n_salg=5; const cut_salg=100; const n_rk=5; const cut_rk=100; const n_im=5; const cut_im=100; const n_ab=5; const cut_ab=100; const n_cr=5; const cut_cr=100; const n_pid=5; const cut_pid=100; const maxn_init=100; const maxn_exp=1000; const maxn_b=1000; const maxn_r=1000; const maxn_omp=1000; const maxn_mc=1000; const maxn_tim=1000; const maxn_ad=1000; const maxn_rl=1000; const maxn_fp=1000; const maxn_tr=1000; const maxn_dmp=1000; const n_ad=5; const cut_ad=100; const n_rl=5; const cut_rl=100; const n_fp=5; const cut_fp=100; const n_tr=5; const cut_tr=100; const n_ode=5; const cut_ode=100; const n_nn=5; const cut_nn=100; const n_pid=5; const cut_pid=100; const n_alg=5; const cut_alg=100; const maxn=1000; const mincut=10; const maxcut=100; const n_ensalg=5; const cut_ensalg=100; const n_algpid=5; const cut_algpid=100; const n_algnn=5; const cut_algnn=100; const n_afo=5; const cut_afo=100; const n_pidafo=5; const cut_pidafo=100; const n_adap=5; const cut_adap=100; const n_adapnn=5; const cut_adapnn=100; const n_ans=5; const cut_ans=100; const n_b=5; const cut_b=100; const n_r=5; const cut_r=100; const n_omp=5; const cut_omp=100; const n_mc=5; const cut_mc=100; const n_tim=5; const cut_tim=100; const n_in=5; const cut_in=100; const n_ad=5; const cut_ad=100; const n_rl=5; const cut_rl=100; const n_fp=5; const cut_fp=100; const n_tr=5; const cut_tr=100; const n_dmp=5; const cut_dmp=100; const n_salg=5; const cut_salg=100; const n_rk=5; const cut_rk=100; const n_im=5; const cut_im=100; const n_ab=5; const cut_ab=100; const n_cr=5; const cut_cr=100; const n_pid=5; const cut_pid=100; const maxn_init=100; const maxn_exp=1000; const maxn_b=1000; const maxn_r=1000; const maxn_omp=1000; const maxn_mc=1000; const maxn_tim=1000; const maxn_ad=1000; const maxn_rl=1000; const maxn_fp=1000; const maxn_tr=1000; const maxn_dmp=1000; const n_ad=5; const cut_ad=100; const n_rl=5; const cut_rl=100; const n_fp=5; const cut_fp=100; const n_tr=5; const cut_tr=100; const n_ode=5; const cut_ode=100; const n_nn=5; const cut_nn=100; const n_pid=5; const cut_pid=100; const n_alg=5; const cut_alg=100; const maxn=1000; const mincut=10; const maxcut=100; const n_ensalg=5; const cut_ensalg=100; const n_algpid=5; const cut_algpid=100; const n_algnn=5; const cut_algnn=100; const n_afo=5; const cut_afo=100; const n_pidafo=5; const cut_pidafo=100; const n_adap=5; const cut_adap=100; const n_adapnn=5; const cut_adapnn=100; const n_ans=5; const cut_ans=100; const n_b=5; const cut_b=100; const n_r=5; const cut_r=100; const n_omp=5; const cut_omp=100; const n_mc=5; const cut_mc=100; const n_tim=5; const cut_tim=100; const n_in=5; const cut_in=100; const n_ad=5; const cut_ad=100; const n_rl=5; const cut_rl=100; const n_fp=5; const cut_fp=100; const n_tr=5; const cut_tr=100; const n_dmp=5; const cut_dmp=100; const n_salg=5; const cut_salg=100; const n_rk=5; const cut_rk=100; const n_im=5; const cut_im=100; const n_ab=5; const cut_ab=100; const n_cr=5; const cut_cr=100; const n_pid=5; const cut_pid=100; const maxn_init=100; const maxn_exp=1000; const maxn_b=1000; const maxn_r=1000; const maxn_omp=1000; const maxn_mc=1000; const maxn_tim=1000; const maxn_ad=1000; const maxn_rl=1000; const maxn_fp=1000; const maxn_tr=1000; const maxn_dmp=1000; const n_ad=5; const cut_ad=100; const n_rl=5; const cut_rl=100; const n_fp=5; const cut_fp=100; const n_tr=5; const cut_tr=100; const n_ode=5; const cut_ode=100; const n_nn=5; const cut_nn=100; const n_pid=5; const cut_pid=100; const n_alg=5; const cut_alg=100; const maxn=1000; const mincut=10; const maxcut=100; const n_ensalg=5; const cut_ensalg=100; const n_algpid=5; const cut_algpid=100; const n_algnn=5; const cut_algnn=100; const n_afo=5; const cut_afo=100; const n_pidafo=5; const cut_pidafo=100; const n_adap=5; const cut_adap=100; const n_adapnn=5; const cut_adapnn=100; const n_ans=5; const cut_ans=100; const n_b=5; const cut_b=100; const n_r=5; const cut_r=100; const n_omp=5; const cut_omp=100; const n_mc=5; const cut_mc=100; const n_tim=5; const cut_tim=100;\\n\\n# Initial conditions\\nconst T_true = dt*stop_at; const tspan_true = (0.0f0, T_true); const nsteps_true = Int(stop_at/dt); const Ts_true = dt; const tsteps_true = range(0.0f0, stop=Float32(stop_at), length=nsteps_true); const Lorenz_true = ODE.Lorenz{Floating}(σ=sigma, r=r, b=b); u0_true = [0.1f0, 0.2f0, 0.3f0]; prob_true = ODEProblem(Lorenz_true, u0_true, tspan_true); X_ttrue = Array(solve(prob_true, Tsit5(), saveat=tsteps_true)); X_ttrue[:,end] = [1000.0, 1000.0, 1000.0]; X_ttrue = [X_ttrue[:,1:end-1]];\\n\\n```', role='assistant', function_call=None, tool_calls=None, refusal=None)\n"
     ]
    }
   ],
   "source": [
    "completion = client.chat.completions.create(\n",
    "  model=\"ft:gpt-4o-mini-2024-07-18:vizuara::AQoyUMti\",\n",
    "  messages=[\n",
    "    {\"role\": \"system\", \"content\": \"SciMLGPT is a chatbot trained to generate Julia code for Scientific machine learning problems.\"},\n",
    "    {\"role\": \"user\", \"content\": \"Generate a neural ode implementation for The Lorenz equations in Julia by implenting an ODE solver and the lorenz equations in a function called Lorenz. utilzie proper SciML packages\"}\n",
    "  ]\n",
    ")\n",
    "\n",
    "print(completion.choices[0].message)"
   ]
  }
 ],
 "metadata": {
  "kernelspec": {
   "display_name": "base",
   "language": "python",
   "name": "python3"
  },
  "language_info": {
   "name": "python",
   "version": "3.12.4"
  }
 },
 "nbformat": 4,
 "nbformat_minor": 2
}
